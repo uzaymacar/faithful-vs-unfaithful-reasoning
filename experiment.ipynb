{
 "cells": [
  {
   "cell_type": "code",
   "execution_count": 2,
   "metadata": {},
   "outputs": [],
   "source": [
    "import json\n",
    "import os\n",
    "import random\n",
    "from pathlib import Path\n",
    "from typing import Any, Dict, List, TypedDict\n",
    "from utils import Question, QsDataset\n",
    "\n",
    "import torch\n",
    "import yaml\n",
    "from datasets import Dataset, DatasetDict, load_dataset\n",
    "from tqdm import tqdm\n",
    "from transformer_lens import HookedTransformer"
   ]
  },
  {
   "cell_type": "code",
   "execution_count": 4,
   "metadata": {},
   "outputs": [
    {
     "data": {
      "text/plain": [
       "['sound-speeds',\n",
       " 'train-speeds',\n",
       " 'aircraft-speeds',\n",
       " 'animals-speed',\n",
       " 'element-densities',\n",
       " 'tunnel-lengths',\n",
       " 'structure-completion',\n",
       " 'boiling-points',\n",
       " 'celebrity-heights',\n",
       " 'wm-book-length',\n",
       " 'element-numbers',\n",
       " 'mountain-heights',\n",
       " 'tech-releases',\n",
       " 'first-flights',\n",
       " 'melting-points',\n",
       " 'bridge-lengths',\n",
       " 'satellite-launches',\n",
       " 'skyscraper-heights',\n",
       " 'river-lengths',\n",
       " 'sea-depths']"
      ]
     },
     "execution_count": 4,
     "metadata": {},
     "output_type": "execute_result"
    }
   ],
   "source": [
    "with open('results/deepseek_r1_cots_iphr.json', 'r') as f:\n",
    "    data = json.load(f)\n",
    "\n",
    "\n",
    "list(set([x['prop_id'] for x in data]))"
   ]
  }
 ],
 "metadata": {
  "kernelspec": {
   "display_name": "Python 3",
   "language": "python",
   "name": "python3"
  },
  "language_info": {
   "codemirror_mode": {
    "name": "ipython",
    "version": 3
   },
   "file_extension": ".py",
   "mimetype": "text/x-python",
   "name": "python",
   "nbconvert_exporter": "python",
   "pygments_lexer": "ipython3",
   "version": "3.10.12"
  }
 },
 "nbformat": 4,
 "nbformat_minor": 2
}
