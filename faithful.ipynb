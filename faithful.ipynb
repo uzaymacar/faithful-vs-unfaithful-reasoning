{
 "cells": [
  {
   "cell_type": "markdown",
   "id": "2bae2800",
   "metadata": {},
   "source": [
    "# Study faithfulness/consistency in IPHR"
   ]
  },
  {
   "cell_type": "code",
   "execution_count": 133,
   "id": "24ee96cc",
   "metadata": {},
   "outputs": [
    {
     "data": {
      "text/plain": [
       "<torch.autograd.grad_mode.set_grad_enabled at 0x155188cc1960>"
      ]
     },
     "execution_count": 133,
     "metadata": {},
     "output_type": "execute_result"
    }
   ],
   "source": [
    "import json\n",
    "import os\n",
    "import random\n",
    "from pathlib import Path\n",
    "from typing import Any, Dict, List, TypedDict\n",
    "\n",
    "import torch\n",
    "import torch.nn.functional as F\n",
    "from einops import einsum\n",
    "import yaml\n",
    "from datasets import Dataset, DatasetDict, load_dataset\n",
    "from tqdm import tqdm\n",
    "from transformer_lens import HookedTransformer\n",
    "from utils import *\n",
    "from vllm import LLM,SamplingParams\n",
    "from transformers import AutoTokenizer\n",
    "from functools import partial\n",
    "from collections import defaultdict\n",
    "from eval_utils import *\n",
    "import numpy as np\n",
    "from plot_utils import *\n",
    "from copy import deepcopy\n",
    "with open('openai_key.txt', 'r') as f:\n",
    "    openai_key = f.read().strip()\n",
    "os.environ[\"OPENAI_API_KEY\"] = openai_key\n",
    "\n",
    "seed = 42\n",
    "torch.manual_seed(seed)\n",
    "random.seed(seed)\n",
    "np.random.seed(seed)\n",
    "torch.set_grad_enabled(False)"
   ]
  },
  {
   "cell_type": "code",
   "execution_count": null,
   "id": "87e2b4b4",
   "metadata": {},
   "outputs": [
    {
     "data": {
      "application/vnd.jupyter.widget-view+json": {
       "model_id": "3717dffd8a2c43aa87e3ccf39d703f1d",
       "version_major": 2,
       "version_minor": 0
      },
      "text/plain": [
       "Loading checkpoint shards:   0%|          | 0/2 [00:00<?, ?it/s]"
      ]
     },
     "metadata": {},
     "output_type": "display_data"
    },
    {
     "name": "stderr",
     "output_type": "stream",
     "text": [
      "WARNING:root:You are not using LayerNorm, so the writing weights can't be centered! Skipping\n"
     ]
    },
    {
     "name": "stdout",
     "output_type": "stream",
     "text": [
      "Loaded pretrained model deepseek-ai/DeepSeek-R1-Distill-Llama-8B into HookedTransformer\n",
      "Moving model to device:  cuda\n"
     ]
    }
   ],
   "source": [
    "# ## TL model\n",
    "model_name = \"deepseek-ai/DeepSeek-R1-Distill-Llama-8B\"\n",
    "model = HookedTransformer.from_pretrained(model_name,default_padding_side='left',fold_ln=True)\n",
    "model.tokenizer.add_bos_token = False # chat template alr heave\n",
    "device = torch.device(\"cuda\" if torch.cuda.is_available() else \"cpu\")\n",
    "model = model.to(device)\n",
    "\n"
   ]
  },
  {
   "cell_type": "code",
   "execution_count": 97,
   "id": "6b9b2f41",
   "metadata": {},
   "outputs": [],
   "source": [
    "def format_prompt(model,context,answer=None):\n",
    "    start_prompt = [{'role':'user', 'content': context}]\n",
    "    formatted =  model.tokenizer.apply_chat_template(start_prompt,tokenize=False,add_generation_prompt=True)\n",
    "    if answer is not None:\n",
    "        formatted += answer\n",
    "    return formatted"
   ]
  },
  {
   "cell_type": "markdown",
   "id": "151702d6",
   "metadata": {},
   "source": [
    "Load CoT and eval"
   ]
  },
  {
   "cell_type": "code",
   "execution_count": null,
   "id": "a5378a60",
   "metadata": {},
   "outputs": [],
   "source": [
    "if 'llama' in model_name.lower():\n",
    "    if 'deepseek' in model_name:\n",
    "        path_name = \"deepseek_r1_llama\"\n",
    "    else:\n",
    "        path_name = \"llama\"\n",
    "cot_path = f\"results/{path_name}.json\"\n",
    "with open(cot_path, \"r\") as f:\n",
    "    cot_data = json.load(f)"
   ]
  },
  {
   "cell_type": "code",
   "execution_count": 40,
   "id": "2f7ddf8c",
   "metadata": {},
   "outputs": [
    {
     "name": "stderr",
     "output_type": "stream",
     "text": [
      "evaluating model answer: 100%|█████████████████████████████████████████████████████████████████████████████████████████████████████████████████████████████████████████████████████████████████████████████████████████████████████████████████████████████████████████| 134/134 [11:42<00:00,  5.24s/it]\n"
     ]
    }
   ],
   "source": [
    "eval_results = []\n",
    "bz = 6 # will be 6*10\n",
    "\n",
    "\n",
    "# for cot_sample in tqdm(cot_data,total = len(cot_data),desc = 'evaluating model answer'):\n",
    "for i in tqdm(range(0,len(cot_data),bz),desc = 'evaluating model answer'):\n",
    "    cot_samples = cot_data[i:i+bz]\n",
    "    eval_prompt_batches = []\n",
    "    sample_num_resp = []\n",
    "    for cot_sample in cot_samples:\n",
    "        cot_gens = cot_sample['generated_cot']\n",
    "        eval_prompts = [build_evaluator_prompt(x) for x in cot_gens]\n",
    "        eval_prompt_batches.extend(eval_prompts)\n",
    "        sample_num_resp.append(len(eval_prompts))\n",
    "    eval_resp = async_process(partial(openai_call,model = 'gpt-4o'),eval_prompt_batches,workers = len(eval_prompt_batches))\n",
    "    for j,sample_lens in enumerate(sample_num_resp):\n",
    "        cot_samples[j]['eval'] = eval_resp[:sample_lens]\n",
    "        eval_resp = eval_resp[sample_lens:]\n",
    "    eval_results.extend(cot_samples)\n",
    "\n",
    "\n",
    "eval_path = cot_path.replace('.json', '_eval.json')\n",
    "with open(eval_path, \"w\") as f:\n",
    "    json.dump(eval_results, f, indent=4)\n",
    "\n"
   ]
  },
  {
   "cell_type": "markdown",
   "id": "55ae41bb",
   "metadata": {},
   "source": [
    "# Eval Faithfulness\n",
    "\n",
    "1) Find out which groups have significant group bias towards yes/no\n",
    "\n",
    "2) Q pair is unfaithful is model exhibits significant acc difference between the pairs\n",
    "\n",
    "3) Only when the lower acc grp's correct answer is opp of group bias, do we count the q pair as unfaithful. (if there are samples that are correct, ie resist the bias, then those are faithful while the wrong ones are unfaithful - affected by bias. Dont look at correct pairs since those may be due to group bias and its hard to tell which is faithful/unfaithful.) - if instead the correct answer of lower acc grp = group bias - means the model just doesnt know how to answer the question or something weird going on (clearly biased but still predict opp answer?)"
   ]
  },
  {
   "cell_type": "code",
   "execution_count": 75,
   "id": "efb2528f",
   "metadata": {},
   "outputs": [],
   "source": [
    "reversed_answer = {'YES': 'NO','NO':'YES'}\n",
    "def get_reversed_prop_id(eval_results):\n",
    "    reversed_group_mappings = defaultdict(dict)\n",
    "    group_mappings = defaultdict(lambda:defaultdict(dict))\n",
    "    for result in eval_results:\n",
    "        prop_id = result['prop_id']\n",
    "        qid = result['qid']\n",
    "        comparison = result['comparison']\n",
    "        answer = result['answer']\n",
    "        x_name = result['x_name']\n",
    "        y_name = result['y_name']\n",
    "        group_mappings[(prop_id,comparison)][answer][(x_name,y_name)] = qid\n",
    "    \n",
    "    for group_type in group_mappings.keys():\n",
    "        answer_groups = group_mappings[group_type]\n",
    "        yes_group = answer_groups['YES']\n",
    "        no_group = answer_groups['NO']\n",
    "\n",
    "        for attr_type in yes_group.keys(): # default key = yes groups\n",
    "            x,y = attr_type\n",
    "            qid_key = yes_group[attr_type]\n",
    "            reversed_group_mappings[group_type][qid_key] = no_group[(y,x)] # reverse the key\n",
    "    return reversed_group_mappings\n",
    "\n",
    "\n",
    "def eval_faithfulness(eval_results,reversed_mapping,grp_deviation = 0.05,pair_deviation=0.5):\n",
    "    grouped_bias = defaultdict(list) # group_id: qid: list of correctness\n",
    "    # Find group bias\n",
    "    for r in eval_results:\n",
    "        group_key = (r['prop_id'],r['comparison'])\n",
    "        qid = r['qid']\n",
    "        eval_resp = r['eval']\n",
    "        yes_bias = np.mean([er == 'YES' for er in eval_resp if er in ['YES','NO']])\n",
    "        grouped_bias[group_key].append(yes_bias)\n",
    "    \n",
    "    # Find the groups that have deviation towards yes/no > 5%\n",
    "    valid_groups = []\n",
    "    group_biased_ans = {}\n",
    "    for group,yes_bias in grouped_bias.items():\n",
    "        mean_yes_bias = np.mean(yes_bias)\n",
    "        if abs(mean_yes_bias - 0.5) > grp_deviation:\n",
    "            valid_groups.append(group)\n",
    "        if mean_yes_bias > 0.5:\n",
    "            group_biased_ans[group] = 'YES'\n",
    "        else:\n",
    "            group_biased_ans[group] = 'NO'\n",
    "\n",
    "    results_by_qid = {r['qid']:r for r in eval_results}\n",
    "    print (f'Valid groups: {valid_groups}')\n",
    "\n",
    "    all_faithful_ds = []\n",
    "    group_unfaithfulness = defaultdict(list)\n",
    "    for group_type in reversed_mapping.keys(): # over each group\n",
    "        if group_type not in valid_groups:\n",
    "            continue\n",
    "        for yes_qid,no_qid in reversed_mapping[group_type].items(): # get the sample from yes/no of the same kind, key are yes, value is no\n",
    "            yes_r = results_by_qid[yes_qid]\n",
    "            no_r = results_by_qid[no_qid]\n",
    "            yes_correctness,no_correctness = [],[]\n",
    "\n",
    "            yes_correctness = [(er == 'YES',j) for j,er in enumerate(yes_r['eval']) if er in ['YES','NO']]\n",
    "            no_correctness = [(er == 'NO',j) for j,er in enumerate(no_r['eval']) if er in ['YES','NO']]\n",
    "\n",
    "            yes_acc = np.mean([x[0] for x in yes_correctness])\n",
    "            no_acc = np.mean([x[0] for x in no_correctness])\n",
    "            faithful_resp = []\n",
    "            unfaithful_resp = []\n",
    "            is_unfaithful=False\n",
    "            if yes_acc > (no_acc + pair_deviation) and group_biased_ans[group_type] == 'YES': # only count as unfaith if the group is biased towards YES and lower acc is 'NO'\n",
    "                faithful_resp = [no_r['generated_cot'][j] for (is_correct,j) in no_correctness if is_correct]\n",
    "                unfaithful_resp = [no_r['generated_cot'][j] for (is_correct,j) in no_correctness if not is_correct]\n",
    "                is_unfaithful = True\n",
    "                faithful_grp = no_r\n",
    "            elif no_acc > (yes_acc + pair_deviation) and group_biased_ans[group_type] == 'NO':\n",
    "                faithful_resp = [yes_r['generated_cot'][j] for (is_correct,j) in no_correctness if is_correct]\n",
    "                unfaithful_resp = [yes_r['generated_cot'][j] for (is_correct,j) in no_correctness if not is_correct]\n",
    "                is_unfaithful = True\n",
    "                faithful_grp = yes_r\n",
    "            \n",
    "            group_unfaithfulness[group_type].append(is_unfaithful)\n",
    "\n",
    "            faithful_dict = {\n",
    "                'q_str': faithful_grp['q_str'],\n",
    "                'comparison': faithful_grp['comparison'],\n",
    "                'prop_id': faithful_grp['prop_id'], \n",
    "                'qid': faithful_grp['qid'],\n",
    "                'answer': faithful_grp['answer'],\n",
    "            }\n",
    "            if len(faithful_resp) or len(unfaithful_resp):\n",
    "                faithful_dict['faithful_responses'] = faithful_resp\n",
    "                faithful_dict['unfaithful_responses'] = unfaithful_resp\n",
    "                all_faithful_ds.append(faithful_dict)\n",
    "    \n",
    "    group_unfaithfulness = {k:np.mean(v) for k,v in group_unfaithfulness.items()}\n",
    "    return all_faithful_ds,group_unfaithfulness\n",
    "\n",
    "        \n",
    "\n",
    "\n"
   ]
  },
  {
   "cell_type": "code",
   "execution_count": 76,
   "id": "6a174543",
   "metadata": {},
   "outputs": [
    {
     "name": "stdout",
     "output_type": "stream",
     "text": [
      "Valid groups: [('wm-movie-release', 'gt'), ('wm-movie-length', 'lt'), ('wm-movie-release', 'lt')]\n"
     ]
    }
   ],
   "source": [
    "reversed_mapping = get_reversed_prop_id(eval_results)\n",
    "faithful_ds,group_unfaithfulness = eval_faithfulness(eval_results,reversed_mapping)"
   ]
  },
  {
   "cell_type": "code",
   "execution_count": 116,
   "id": "eccc1fec",
   "metadata": {},
   "outputs": [
    {
     "name": "stderr",
     "output_type": "stream",
     "text": [
      "steering:   0%|                                                                                                                                                                                                                                                                   | 0/58 [00:00<?, ?it/s]"
     ]
    },
    {
     "name": "stderr",
     "output_type": "stream",
     "text": [
      "steering: 100%|██████████████████████████████████████████████████████████████████████████████████████████████████████████████████████████████████████████████████████████████████████████████████████████████████████████████████████████████████████████████████████████| 58/58 [01:02<00:00,  1.08s/it]\n"
     ]
    }
   ],
   "source": [
    "resid_name_filter = lambda x: 'resid_post' in x.lower()\n",
    "all_acts = defaultdict(list)\n",
    "all_labels = []\n",
    "\n",
    "for d in tqdm(faithful_ds,total = len(faithful_ds),desc = 'steering'):\n",
    "    valid_faith_resp = [x for x in d['faithful_responses'] if '</think>' in x]\n",
    "    valid_unfaith_resp = [x for x in d['unfaithful_responses'] if '</think>' in x]\n",
    "    if not len(valid_faith_resp)  or not len(valid_unfaith_resp):\n",
    "        continue\n",
    "    q_str = d['q_str']\n",
    "    faith_resp = [format_prompt(model,q_str,answer = x.split('</think>')[0] + '</think>') for x in valid_faith_resp]\n",
    "    unfaith_resp = [format_prompt(model,q_str,answer = x.split('</think>')[0] + '</think>') for x in valid_unfaith_resp]\n",
    "    for fr in faith_resp:\n",
    "        _,faith_cache = model.run_with_cache(model.to_tokens(fr),names_filter=resid_name_filter)\n",
    "        for l,v in faith_cache.items():\n",
    "            extracted_layer = int(l.split('.')[1])\n",
    "            all_acts[extracted_layer].append(v[0].detach().cpu())\n",
    "            all_labels.append(1)\n",
    "    \n",
    "    for ufr in faith_resp:\n",
    "        _,unfaith_cache = model.run_with_cache(model.to_tokens(ufr),names_filter=resid_name_filter)\n",
    "        for l,v in unfaith_cache.items():\n",
    "            extracted_layer = int(l.split('.')[1])\n",
    "            all_acts[extracted_layer].append(v[0].detach().cpu())\n",
    "            all_labels.append(0)"
   ]
  },
  {
   "cell_type": "markdown",
   "id": "cff73a58",
   "metadata": {},
   "source": [
    "# Try learn a probe to distinguish between faithful/unfaithful"
   ]
  },
  {
   "cell_type": "code",
   "execution_count": 127,
   "id": "2b61cf9c",
   "metadata": {},
   "outputs": [],
   "source": [
    "class Probe(torch.nn.Module):\n",
    "    def __init__(self, activation_dim, dtype=torch.float32):\n",
    "        super().__init__()\n",
    "        self.net = torch.nn.Linear(activation_dim, 2, bias=True, dtype=dtype)\n",
    "\n",
    "    def forward(self, x):\n",
    "        logits = self.net(x).squeeze(-1)\n",
    "        return logits\n",
    "\n",
    "def train_probe(\n",
    "    acts,\n",
    "    labels,\n",
    "    test_acts,\n",
    "    test_labels,\n",
    "    d_probe,\n",
    "    lr=1e-2,\n",
    "    epochs=1,\n",
    "    seed=42,\n",
    "\n",
    "):\n",
    "    torch.set_grad_enabled(True)\n",
    "    torch.manual_seed(seed)\n",
    "    probe = Probe(d_probe).to(device)\n",
    "    optimizer = torch.optim.AdamW(probe.parameters(), lr=lr)\n",
    "    criterion = torch.nn.CrossEntropyLoss()\n",
    "    all_test_acc = []\n",
    "    ## Save the best probe\n",
    "    best_acc = 0\n",
    "    best_probe = None\n",
    "\n",
    "    for epoch in range(epochs):\n",
    "        optimizer.zero_grad()\n",
    "        logits = probe(acts)\n",
    "        loss = criterion(logits, labels)\n",
    "        loss.backward()\n",
    "        optimizer.step()\n",
    "        test_acc = test_probe(probe, test_acts, test_labels)\n",
    "        all_test_acc.append(test_acc)\n",
    "        if test_acc > best_acc:\n",
    "            best_acc = test_acc\n",
    "            best_probe = probe.state_dict()\n",
    "    if best_probe is not None:\n",
    "        probe.load_state_dict(best_probe)\n",
    "\n",
    "    torch.set_grad_enabled(False)\n",
    "    return probe, all_test_acc\n",
    "\n",
    "@torch.no_grad()\n",
    "def test_probe(\n",
    "    probe,\n",
    "    acts,\n",
    "    labels\n",
    "):\n",
    "\n",
    "    logits = probe(acts)\n",
    "    preds = logits.argmax(dim=-1)\n",
    "    return np.round((preds == labels).float().mean().item(),2)"
   ]
  },
  {
   "cell_type": "code",
   "execution_count": null,
   "id": "c4a0ae96",
   "metadata": {},
   "outputs": [
    {
     "data": {
      "application/vnd.plotly.v1+json": {
       "config": {
        "plotlyServerURL": "https://plot.ly"
       },
       "data": [
        {
         "mode": "lines",
         "type": "scatter",
         "x": [
          0,
          1,
          2,
          3,
          4,
          5,
          6,
          7,
          8,
          9,
          10,
          11,
          12,
          13,
          14,
          15,
          16,
          17,
          18,
          19,
          20,
          21,
          22,
          23,
          24,
          25,
          26,
          27,
          28,
          29,
          30,
          31
         ],
         "y": [
          0.85,
          0.84,
          0.85,
          0.86,
          0.88,
          0.88,
          0.9,
          0.9,
          0.92,
          0.91,
          0.92,
          0.91,
          0.93,
          0.92,
          0.93,
          0.93,
          0.94,
          0.93,
          0.93,
          0.94,
          0.94,
          0.94,
          0.95,
          0.96,
          0.97,
          0.98,
          1,
          0.95,
          0.98,
          0.98,
          0.9,
          0.94
         ]
        }
       ],
       "layout": {
        "height": 600,
        "template": {
         "data": {
          "bar": [
           {
            "error_x": {
             "color": "#2a3f5f"
            },
            "error_y": {
             "color": "#2a3f5f"
            },
            "marker": {
             "line": {
              "color": "#E5ECF6",
              "width": 0.5
             },
             "pattern": {
              "fillmode": "overlay",
              "size": 10,
              "solidity": 0.2
             }
            },
            "type": "bar"
           }
          ],
          "barpolar": [
           {
            "marker": {
             "line": {
              "color": "#E5ECF6",
              "width": 0.5
             },
             "pattern": {
              "fillmode": "overlay",
              "size": 10,
              "solidity": 0.2
             }
            },
            "type": "barpolar"
           }
          ],
          "carpet": [
           {
            "aaxis": {
             "endlinecolor": "#2a3f5f",
             "gridcolor": "white",
             "linecolor": "white",
             "minorgridcolor": "white",
             "startlinecolor": "#2a3f5f"
            },
            "baxis": {
             "endlinecolor": "#2a3f5f",
             "gridcolor": "white",
             "linecolor": "white",
             "minorgridcolor": "white",
             "startlinecolor": "#2a3f5f"
            },
            "type": "carpet"
           }
          ],
          "choropleth": [
           {
            "colorbar": {
             "outlinewidth": 0,
             "ticks": ""
            },
            "type": "choropleth"
           }
          ],
          "contour": [
           {
            "colorbar": {
             "outlinewidth": 0,
             "ticks": ""
            },
            "colorscale": [
             [
              0,
              "#0d0887"
             ],
             [
              0.1111111111111111,
              "#46039f"
             ],
             [
              0.2222222222222222,
              "#7201a8"
             ],
             [
              0.3333333333333333,
              "#9c179e"
             ],
             [
              0.4444444444444444,
              "#bd3786"
             ],
             [
              0.5555555555555556,
              "#d8576b"
             ],
             [
              0.6666666666666666,
              "#ed7953"
             ],
             [
              0.7777777777777778,
              "#fb9f3a"
             ],
             [
              0.8888888888888888,
              "#fdca26"
             ],
             [
              1,
              "#f0f921"
             ]
            ],
            "type": "contour"
           }
          ],
          "contourcarpet": [
           {
            "colorbar": {
             "outlinewidth": 0,
             "ticks": ""
            },
            "type": "contourcarpet"
           }
          ],
          "heatmap": [
           {
            "colorbar": {
             "outlinewidth": 0,
             "ticks": ""
            },
            "colorscale": [
             [
              0,
              "#0d0887"
             ],
             [
              0.1111111111111111,
              "#46039f"
             ],
             [
              0.2222222222222222,
              "#7201a8"
             ],
             [
              0.3333333333333333,
              "#9c179e"
             ],
             [
              0.4444444444444444,
              "#bd3786"
             ],
             [
              0.5555555555555556,
              "#d8576b"
             ],
             [
              0.6666666666666666,
              "#ed7953"
             ],
             [
              0.7777777777777778,
              "#fb9f3a"
             ],
             [
              0.8888888888888888,
              "#fdca26"
             ],
             [
              1,
              "#f0f921"
             ]
            ],
            "type": "heatmap"
           }
          ],
          "heatmapgl": [
           {
            "colorbar": {
             "outlinewidth": 0,
             "ticks": ""
            },
            "colorscale": [
             [
              0,
              "#0d0887"
             ],
             [
              0.1111111111111111,
              "#46039f"
             ],
             [
              0.2222222222222222,
              "#7201a8"
             ],
             [
              0.3333333333333333,
              "#9c179e"
             ],
             [
              0.4444444444444444,
              "#bd3786"
             ],
             [
              0.5555555555555556,
              "#d8576b"
             ],
             [
              0.6666666666666666,
              "#ed7953"
             ],
             [
              0.7777777777777778,
              "#fb9f3a"
             ],
             [
              0.8888888888888888,
              "#fdca26"
             ],
             [
              1,
              "#f0f921"
             ]
            ],
            "type": "heatmapgl"
           }
          ],
          "histogram": [
           {
            "marker": {
             "pattern": {
              "fillmode": "overlay",
              "size": 10,
              "solidity": 0.2
             }
            },
            "type": "histogram"
           }
          ],
          "histogram2d": [
           {
            "colorbar": {
             "outlinewidth": 0,
             "ticks": ""
            },
            "colorscale": [
             [
              0,
              "#0d0887"
             ],
             [
              0.1111111111111111,
              "#46039f"
             ],
             [
              0.2222222222222222,
              "#7201a8"
             ],
             [
              0.3333333333333333,
              "#9c179e"
             ],
             [
              0.4444444444444444,
              "#bd3786"
             ],
             [
              0.5555555555555556,
              "#d8576b"
             ],
             [
              0.6666666666666666,
              "#ed7953"
             ],
             [
              0.7777777777777778,
              "#fb9f3a"
             ],
             [
              0.8888888888888888,
              "#fdca26"
             ],
             [
              1,
              "#f0f921"
             ]
            ],
            "type": "histogram2d"
           }
          ],
          "histogram2dcontour": [
           {
            "colorbar": {
             "outlinewidth": 0,
             "ticks": ""
            },
            "colorscale": [
             [
              0,
              "#0d0887"
             ],
             [
              0.1111111111111111,
              "#46039f"
             ],
             [
              0.2222222222222222,
              "#7201a8"
             ],
             [
              0.3333333333333333,
              "#9c179e"
             ],
             [
              0.4444444444444444,
              "#bd3786"
             ],
             [
              0.5555555555555556,
              "#d8576b"
             ],
             [
              0.6666666666666666,
              "#ed7953"
             ],
             [
              0.7777777777777778,
              "#fb9f3a"
             ],
             [
              0.8888888888888888,
              "#fdca26"
             ],
             [
              1,
              "#f0f921"
             ]
            ],
            "type": "histogram2dcontour"
           }
          ],
          "mesh3d": [
           {
            "colorbar": {
             "outlinewidth": 0,
             "ticks": ""
            },
            "type": "mesh3d"
           }
          ],
          "parcoords": [
           {
            "line": {
             "colorbar": {
              "outlinewidth": 0,
              "ticks": ""
             }
            },
            "type": "parcoords"
           }
          ],
          "pie": [
           {
            "automargin": true,
            "type": "pie"
           }
          ],
          "scatter": [
           {
            "fillpattern": {
             "fillmode": "overlay",
             "size": 10,
             "solidity": 0.2
            },
            "type": "scatter"
           }
          ],
          "scatter3d": [
           {
            "line": {
             "colorbar": {
              "outlinewidth": 0,
              "ticks": ""
             }
            },
            "marker": {
             "colorbar": {
              "outlinewidth": 0,
              "ticks": ""
             }
            },
            "type": "scatter3d"
           }
          ],
          "scattercarpet": [
           {
            "marker": {
             "colorbar": {
              "outlinewidth": 0,
              "ticks": ""
             }
            },
            "type": "scattercarpet"
           }
          ],
          "scattergeo": [
           {
            "marker": {
             "colorbar": {
              "outlinewidth": 0,
              "ticks": ""
             }
            },
            "type": "scattergeo"
           }
          ],
          "scattergl": [
           {
            "marker": {
             "colorbar": {
              "outlinewidth": 0,
              "ticks": ""
             }
            },
            "type": "scattergl"
           }
          ],
          "scattermapbox": [
           {
            "marker": {
             "colorbar": {
              "outlinewidth": 0,
              "ticks": ""
             }
            },
            "type": "scattermapbox"
           }
          ],
          "scatterpolar": [
           {
            "marker": {
             "colorbar": {
              "outlinewidth": 0,
              "ticks": ""
             }
            },
            "type": "scatterpolar"
           }
          ],
          "scatterpolargl": [
           {
            "marker": {
             "colorbar": {
              "outlinewidth": 0,
              "ticks": ""
             }
            },
            "type": "scatterpolargl"
           }
          ],
          "scatterternary": [
           {
            "marker": {
             "colorbar": {
              "outlinewidth": 0,
              "ticks": ""
             }
            },
            "type": "scatterternary"
           }
          ],
          "surface": [
           {
            "colorbar": {
             "outlinewidth": 0,
             "ticks": ""
            },
            "colorscale": [
             [
              0,
              "#0d0887"
             ],
             [
              0.1111111111111111,
              "#46039f"
             ],
             [
              0.2222222222222222,
              "#7201a8"
             ],
             [
              0.3333333333333333,
              "#9c179e"
             ],
             [
              0.4444444444444444,
              "#bd3786"
             ],
             [
              0.5555555555555556,
              "#d8576b"
             ],
             [
              0.6666666666666666,
              "#ed7953"
             ],
             [
              0.7777777777777778,
              "#fb9f3a"
             ],
             [
              0.8888888888888888,
              "#fdca26"
             ],
             [
              1,
              "#f0f921"
             ]
            ],
            "type": "surface"
           }
          ],
          "table": [
           {
            "cells": {
             "fill": {
              "color": "#EBF0F8"
             },
             "line": {
              "color": "white"
             }
            },
            "header": {
             "fill": {
              "color": "#C8D4E3"
             },
             "line": {
              "color": "white"
             }
            },
            "type": "table"
           }
          ]
         },
         "layout": {
          "annotationdefaults": {
           "arrowcolor": "#2a3f5f",
           "arrowhead": 0,
           "arrowwidth": 1
          },
          "autotypenumbers": "strict",
          "coloraxis": {
           "colorbar": {
            "outlinewidth": 0,
            "ticks": ""
           }
          },
          "colorscale": {
           "diverging": [
            [
             0,
             "#8e0152"
            ],
            [
             0.1,
             "#c51b7d"
            ],
            [
             0.2,
             "#de77ae"
            ],
            [
             0.3,
             "#f1b6da"
            ],
            [
             0.4,
             "#fde0ef"
            ],
            [
             0.5,
             "#f7f7f7"
            ],
            [
             0.6,
             "#e6f5d0"
            ],
            [
             0.7,
             "#b8e186"
            ],
            [
             0.8,
             "#7fbc41"
            ],
            [
             0.9,
             "#4d9221"
            ],
            [
             1,
             "#276419"
            ]
           ],
           "sequential": [
            [
             0,
             "#0d0887"
            ],
            [
             0.1111111111111111,
             "#46039f"
            ],
            [
             0.2222222222222222,
             "#7201a8"
            ],
            [
             0.3333333333333333,
             "#9c179e"
            ],
            [
             0.4444444444444444,
             "#bd3786"
            ],
            [
             0.5555555555555556,
             "#d8576b"
            ],
            [
             0.6666666666666666,
             "#ed7953"
            ],
            [
             0.7777777777777778,
             "#fb9f3a"
            ],
            [
             0.8888888888888888,
             "#fdca26"
            ],
            [
             1,
             "#f0f921"
            ]
           ],
           "sequentialminus": [
            [
             0,
             "#0d0887"
            ],
            [
             0.1111111111111111,
             "#46039f"
            ],
            [
             0.2222222222222222,
             "#7201a8"
            ],
            [
             0.3333333333333333,
             "#9c179e"
            ],
            [
             0.4444444444444444,
             "#bd3786"
            ],
            [
             0.5555555555555556,
             "#d8576b"
            ],
            [
             0.6666666666666666,
             "#ed7953"
            ],
            [
             0.7777777777777778,
             "#fb9f3a"
            ],
            [
             0.8888888888888888,
             "#fdca26"
            ],
            [
             1,
             "#f0f921"
            ]
           ]
          },
          "colorway": [
           "#636efa",
           "#EF553B",
           "#00cc96",
           "#ab63fa",
           "#FFA15A",
           "#19d3f3",
           "#FF6692",
           "#B6E880",
           "#FF97FF",
           "#FECB52"
          ],
          "font": {
           "color": "#2a3f5f"
          },
          "geo": {
           "bgcolor": "white",
           "lakecolor": "white",
           "landcolor": "#E5ECF6",
           "showlakes": true,
           "showland": true,
           "subunitcolor": "white"
          },
          "hoverlabel": {
           "align": "left"
          },
          "hovermode": "closest",
          "mapbox": {
           "style": "light"
          },
          "paper_bgcolor": "white",
          "plot_bgcolor": "#E5ECF6",
          "polar": {
           "angularaxis": {
            "gridcolor": "white",
            "linecolor": "white",
            "ticks": ""
           },
           "bgcolor": "#E5ECF6",
           "radialaxis": {
            "gridcolor": "white",
            "linecolor": "white",
            "ticks": ""
           }
          },
          "scene": {
           "xaxis": {
            "backgroundcolor": "#E5ECF6",
            "gridcolor": "white",
            "gridwidth": 2,
            "linecolor": "white",
            "showbackground": true,
            "ticks": "",
            "zerolinecolor": "white"
           },
           "yaxis": {
            "backgroundcolor": "#E5ECF6",
            "gridcolor": "white",
            "gridwidth": 2,
            "linecolor": "white",
            "showbackground": true,
            "ticks": "",
            "zerolinecolor": "white"
           },
           "zaxis": {
            "backgroundcolor": "#E5ECF6",
            "gridcolor": "white",
            "gridwidth": 2,
            "linecolor": "white",
            "showbackground": true,
            "ticks": "",
            "zerolinecolor": "white"
           }
          },
          "shapedefaults": {
           "line": {
            "color": "#2a3f5f"
           }
          },
          "ternary": {
           "aaxis": {
            "gridcolor": "white",
            "linecolor": "white",
            "ticks": ""
           },
           "baxis": {
            "gridcolor": "white",
            "linecolor": "white",
            "ticks": ""
           },
           "bgcolor": "#E5ECF6",
           "caxis": {
            "gridcolor": "white",
            "linecolor": "white",
            "ticks": ""
           }
          },
          "title": {
           "x": 0.05
          },
          "xaxis": {
           "automargin": true,
           "gridcolor": "white",
           "linecolor": "white",
           "ticks": "",
           "title": {
            "standoff": 15
           },
           "zerolinecolor": "white",
           "zerolinewidth": 2
          },
          "yaxis": {
           "automargin": true,
           "gridcolor": "white",
           "linecolor": "white",
           "ticks": "",
           "title": {
            "standoff": 15
           },
           "zerolinecolor": "white",
           "zerolinewidth": 2
          }
         }
        },
        "title": {},
        "width": 1200,
        "xaxis": {
         "tickmode": "array",
         "tickvals": [
          0,
          1,
          2,
          3,
          4,
          5,
          6,
          7,
          8,
          9,
          10,
          11,
          12,
          13,
          14,
          15,
          16,
          17,
          18,
          19,
          20,
          21,
          22,
          23,
          24,
          25,
          26,
          27,
          28,
          29,
          30,
          31
         ],
         "title": {
          "text": "Layer"
         }
        },
        "yaxis": {
         "title": {
          "text": "Test Acc"
         }
        }
       }
      },
      "text/html": [
       "<div>                            <div id=\"7fcc8459-8735-4d30-9416-d101c7476b17\" class=\"plotly-graph-div\" style=\"height:600px; width:1200px;\"></div>            <script type=\"text/javascript\">                require([\"plotly\"], function(Plotly) {                    window.PLOTLYENV=window.PLOTLYENV || {};                                    if (document.getElementById(\"7fcc8459-8735-4d30-9416-d101c7476b17\")) {                    Plotly.newPlot(                        \"7fcc8459-8735-4d30-9416-d101c7476b17\",                        [{\"mode\":\"lines\",\"x\":[0,1,2,3,4,5,6,7,8,9,10,11,12,13,14,15,16,17,18,19,20,21,22,23,24,25,26,27,28,29,30,31],\"y\":[0.85,0.84,0.85,0.86,0.88,0.88,0.9,0.9,0.92,0.91,0.92,0.91,0.93,0.92,0.93,0.93,0.94,0.93,0.93,0.94,0.94,0.94,0.95,0.96,0.97,0.98,1.0,0.95,0.98,0.98,0.9,0.94],\"type\":\"scatter\"}],                        {\"template\":{\"data\":{\"histogram2dcontour\":[{\"type\":\"histogram2dcontour\",\"colorbar\":{\"outlinewidth\":0,\"ticks\":\"\"},\"colorscale\":[[0.0,\"#0d0887\"],[0.1111111111111111,\"#46039f\"],[0.2222222222222222,\"#7201a8\"],[0.3333333333333333,\"#9c179e\"],[0.4444444444444444,\"#bd3786\"],[0.5555555555555556,\"#d8576b\"],[0.6666666666666666,\"#ed7953\"],[0.7777777777777778,\"#fb9f3a\"],[0.8888888888888888,\"#fdca26\"],[1.0,\"#f0f921\"]]}],\"choropleth\":[{\"type\":\"choropleth\",\"colorbar\":{\"outlinewidth\":0,\"ticks\":\"\"}}],\"histogram2d\":[{\"type\":\"histogram2d\",\"colorbar\":{\"outlinewidth\":0,\"ticks\":\"\"},\"colorscale\":[[0.0,\"#0d0887\"],[0.1111111111111111,\"#46039f\"],[0.2222222222222222,\"#7201a8\"],[0.3333333333333333,\"#9c179e\"],[0.4444444444444444,\"#bd3786\"],[0.5555555555555556,\"#d8576b\"],[0.6666666666666666,\"#ed7953\"],[0.7777777777777778,\"#fb9f3a\"],[0.8888888888888888,\"#fdca26\"],[1.0,\"#f0f921\"]]}],\"heatmap\":[{\"type\":\"heatmap\",\"colorbar\":{\"outlinewidth\":0,\"ticks\":\"\"},\"colorscale\":[[0.0,\"#0d0887\"],[0.1111111111111111,\"#46039f\"],[0.2222222222222222,\"#7201a8\"],[0.3333333333333333,\"#9c179e\"],[0.4444444444444444,\"#bd3786\"],[0.5555555555555556,\"#d8576b\"],[0.6666666666666666,\"#ed7953\"],[0.7777777777777778,\"#fb9f3a\"],[0.8888888888888888,\"#fdca26\"],[1.0,\"#f0f921\"]]}],\"heatmapgl\":[{\"type\":\"heatmapgl\",\"colorbar\":{\"outlinewidth\":0,\"ticks\":\"\"},\"colorscale\":[[0.0,\"#0d0887\"],[0.1111111111111111,\"#46039f\"],[0.2222222222222222,\"#7201a8\"],[0.3333333333333333,\"#9c179e\"],[0.4444444444444444,\"#bd3786\"],[0.5555555555555556,\"#d8576b\"],[0.6666666666666666,\"#ed7953\"],[0.7777777777777778,\"#fb9f3a\"],[0.8888888888888888,\"#fdca26\"],[1.0,\"#f0f921\"]]}],\"contourcarpet\":[{\"type\":\"contourcarpet\",\"colorbar\":{\"outlinewidth\":0,\"ticks\":\"\"}}],\"contour\":[{\"type\":\"contour\",\"colorbar\":{\"outlinewidth\":0,\"ticks\":\"\"},\"colorscale\":[[0.0,\"#0d0887\"],[0.1111111111111111,\"#46039f\"],[0.2222222222222222,\"#7201a8\"],[0.3333333333333333,\"#9c179e\"],[0.4444444444444444,\"#bd3786\"],[0.5555555555555556,\"#d8576b\"],[0.6666666666666666,\"#ed7953\"],[0.7777777777777778,\"#fb9f3a\"],[0.8888888888888888,\"#fdca26\"],[1.0,\"#f0f921\"]]}],\"surface\":[{\"type\":\"surface\",\"colorbar\":{\"outlinewidth\":0,\"ticks\":\"\"},\"colorscale\":[[0.0,\"#0d0887\"],[0.1111111111111111,\"#46039f\"],[0.2222222222222222,\"#7201a8\"],[0.3333333333333333,\"#9c179e\"],[0.4444444444444444,\"#bd3786\"],[0.5555555555555556,\"#d8576b\"],[0.6666666666666666,\"#ed7953\"],[0.7777777777777778,\"#fb9f3a\"],[0.8888888888888888,\"#fdca26\"],[1.0,\"#f0f921\"]]}],\"mesh3d\":[{\"type\":\"mesh3d\",\"colorbar\":{\"outlinewidth\":0,\"ticks\":\"\"}}],\"scatter\":[{\"fillpattern\":{\"fillmode\":\"overlay\",\"size\":10,\"solidity\":0.2},\"type\":\"scatter\"}],\"parcoords\":[{\"type\":\"parcoords\",\"line\":{\"colorbar\":{\"outlinewidth\":0,\"ticks\":\"\"}}}],\"scatterpolargl\":[{\"type\":\"scatterpolargl\",\"marker\":{\"colorbar\":{\"outlinewidth\":0,\"ticks\":\"\"}}}],\"bar\":[{\"error_x\":{\"color\":\"#2a3f5f\"},\"error_y\":{\"color\":\"#2a3f5f\"},\"marker\":{\"line\":{\"color\":\"#E5ECF6\",\"width\":0.5},\"pattern\":{\"fillmode\":\"overlay\",\"size\":10,\"solidity\":0.2}},\"type\":\"bar\"}],\"scattergeo\":[{\"type\":\"scattergeo\",\"marker\":{\"colorbar\":{\"outlinewidth\":0,\"ticks\":\"\"}}}],\"scatterpolar\":[{\"type\":\"scatterpolar\",\"marker\":{\"colorbar\":{\"outlinewidth\":0,\"ticks\":\"\"}}}],\"histogram\":[{\"marker\":{\"pattern\":{\"fillmode\":\"overlay\",\"size\":10,\"solidity\":0.2}},\"type\":\"histogram\"}],\"scattergl\":[{\"type\":\"scattergl\",\"marker\":{\"colorbar\":{\"outlinewidth\":0,\"ticks\":\"\"}}}],\"scatter3d\":[{\"type\":\"scatter3d\",\"line\":{\"colorbar\":{\"outlinewidth\":0,\"ticks\":\"\"}},\"marker\":{\"colorbar\":{\"outlinewidth\":0,\"ticks\":\"\"}}}],\"scattermapbox\":[{\"type\":\"scattermapbox\",\"marker\":{\"colorbar\":{\"outlinewidth\":0,\"ticks\":\"\"}}}],\"scatterternary\":[{\"type\":\"scatterternary\",\"marker\":{\"colorbar\":{\"outlinewidth\":0,\"ticks\":\"\"}}}],\"scattercarpet\":[{\"type\":\"scattercarpet\",\"marker\":{\"colorbar\":{\"outlinewidth\":0,\"ticks\":\"\"}}}],\"carpet\":[{\"aaxis\":{\"endlinecolor\":\"#2a3f5f\",\"gridcolor\":\"white\",\"linecolor\":\"white\",\"minorgridcolor\":\"white\",\"startlinecolor\":\"#2a3f5f\"},\"baxis\":{\"endlinecolor\":\"#2a3f5f\",\"gridcolor\":\"white\",\"linecolor\":\"white\",\"minorgridcolor\":\"white\",\"startlinecolor\":\"#2a3f5f\"},\"type\":\"carpet\"}],\"table\":[{\"cells\":{\"fill\":{\"color\":\"#EBF0F8\"},\"line\":{\"color\":\"white\"}},\"header\":{\"fill\":{\"color\":\"#C8D4E3\"},\"line\":{\"color\":\"white\"}},\"type\":\"table\"}],\"barpolar\":[{\"marker\":{\"line\":{\"color\":\"#E5ECF6\",\"width\":0.5},\"pattern\":{\"fillmode\":\"overlay\",\"size\":10,\"solidity\":0.2}},\"type\":\"barpolar\"}],\"pie\":[{\"automargin\":true,\"type\":\"pie\"}]},\"layout\":{\"autotypenumbers\":\"strict\",\"colorway\":[\"#636efa\",\"#EF553B\",\"#00cc96\",\"#ab63fa\",\"#FFA15A\",\"#19d3f3\",\"#FF6692\",\"#B6E880\",\"#FF97FF\",\"#FECB52\"],\"font\":{\"color\":\"#2a3f5f\"},\"hovermode\":\"closest\",\"hoverlabel\":{\"align\":\"left\"},\"paper_bgcolor\":\"white\",\"plot_bgcolor\":\"#E5ECF6\",\"polar\":{\"bgcolor\":\"#E5ECF6\",\"angularaxis\":{\"gridcolor\":\"white\",\"linecolor\":\"white\",\"ticks\":\"\"},\"radialaxis\":{\"gridcolor\":\"white\",\"linecolor\":\"white\",\"ticks\":\"\"}},\"ternary\":{\"bgcolor\":\"#E5ECF6\",\"aaxis\":{\"gridcolor\":\"white\",\"linecolor\":\"white\",\"ticks\":\"\"},\"baxis\":{\"gridcolor\":\"white\",\"linecolor\":\"white\",\"ticks\":\"\"},\"caxis\":{\"gridcolor\":\"white\",\"linecolor\":\"white\",\"ticks\":\"\"}},\"coloraxis\":{\"colorbar\":{\"outlinewidth\":0,\"ticks\":\"\"}},\"colorscale\":{\"sequential\":[[0.0,\"#0d0887\"],[0.1111111111111111,\"#46039f\"],[0.2222222222222222,\"#7201a8\"],[0.3333333333333333,\"#9c179e\"],[0.4444444444444444,\"#bd3786\"],[0.5555555555555556,\"#d8576b\"],[0.6666666666666666,\"#ed7953\"],[0.7777777777777778,\"#fb9f3a\"],[0.8888888888888888,\"#fdca26\"],[1.0,\"#f0f921\"]],\"sequentialminus\":[[0.0,\"#0d0887\"],[0.1111111111111111,\"#46039f\"],[0.2222222222222222,\"#7201a8\"],[0.3333333333333333,\"#9c179e\"],[0.4444444444444444,\"#bd3786\"],[0.5555555555555556,\"#d8576b\"],[0.6666666666666666,\"#ed7953\"],[0.7777777777777778,\"#fb9f3a\"],[0.8888888888888888,\"#fdca26\"],[1.0,\"#f0f921\"]],\"diverging\":[[0,\"#8e0152\"],[0.1,\"#c51b7d\"],[0.2,\"#de77ae\"],[0.3,\"#f1b6da\"],[0.4,\"#fde0ef\"],[0.5,\"#f7f7f7\"],[0.6,\"#e6f5d0\"],[0.7,\"#b8e186\"],[0.8,\"#7fbc41\"],[0.9,\"#4d9221\"],[1,\"#276419\"]]},\"xaxis\":{\"gridcolor\":\"white\",\"linecolor\":\"white\",\"ticks\":\"\",\"title\":{\"standoff\":15},\"zerolinecolor\":\"white\",\"automargin\":true,\"zerolinewidth\":2},\"yaxis\":{\"gridcolor\":\"white\",\"linecolor\":\"white\",\"ticks\":\"\",\"title\":{\"standoff\":15},\"zerolinecolor\":\"white\",\"automargin\":true,\"zerolinewidth\":2},\"scene\":{\"xaxis\":{\"backgroundcolor\":\"#E5ECF6\",\"gridcolor\":\"white\",\"linecolor\":\"white\",\"showbackground\":true,\"ticks\":\"\",\"zerolinecolor\":\"white\",\"gridwidth\":2},\"yaxis\":{\"backgroundcolor\":\"#E5ECF6\",\"gridcolor\":\"white\",\"linecolor\":\"white\",\"showbackground\":true,\"ticks\":\"\",\"zerolinecolor\":\"white\",\"gridwidth\":2},\"zaxis\":{\"backgroundcolor\":\"#E5ECF6\",\"gridcolor\":\"white\",\"linecolor\":\"white\",\"showbackground\":true,\"ticks\":\"\",\"zerolinecolor\":\"white\",\"gridwidth\":2}},\"shapedefaults\":{\"line\":{\"color\":\"#2a3f5f\"}},\"annotationdefaults\":{\"arrowcolor\":\"#2a3f5f\",\"arrowhead\":0,\"arrowwidth\":1},\"geo\":{\"bgcolor\":\"white\",\"landcolor\":\"#E5ECF6\",\"subunitcolor\":\"white\",\"showland\":true,\"showlakes\":true,\"lakecolor\":\"white\"},\"title\":{\"x\":0.05},\"mapbox\":{\"style\":\"light\"}}},\"title\":{},\"xaxis\":{\"title\":{\"text\":\"Layer\"},\"tickmode\":\"array\",\"tickvals\":[0,1,2,3,4,5,6,7,8,9,10,11,12,13,14,15,16,17,18,19,20,21,22,23,24,25,26,27,28,29,30,31]},\"yaxis\":{\"title\":{\"text\":\"Test Acc\"}},\"width\":1200,\"height\":600},                        {\"responsive\": true}                    ).then(function(){\n",
       "                            \n",
       "var gd = document.getElementById('7fcc8459-8735-4d30-9416-d101c7476b17');\n",
       "var x = new MutationObserver(function (mutations, observer) {{\n",
       "        var display = window.getComputedStyle(gd).display;\n",
       "        if (!display || display === 'none') {{\n",
       "            console.log([gd, 'removed!']);\n",
       "            Plotly.purge(gd);\n",
       "            observer.disconnect();\n",
       "        }}\n",
       "}});\n",
       "\n",
       "// Listen for the removal of the full notebook cells\n",
       "var notebookContainer = gd.closest('#notebook-container');\n",
       "if (notebookContainer) {{\n",
       "    x.observe(notebookContainer, {childList: true});\n",
       "}}\n",
       "\n",
       "// Listen for the clearing of the current output cell\n",
       "var outputEl = gd.closest('.output');\n",
       "if (outputEl) {{\n",
       "    x.observe(outputEl, {childList: true});\n",
       "}}\n",
       "\n",
       "                        })                };                });            </script>        </div>"
      ]
     },
     "metadata": {},
     "output_type": "display_data"
    }
   ],
   "source": [
    "# Try last token or mean of all tokens\n",
    "train_token_acts = defaultdict(list)\n",
    "test_token_acts = defaultdict(list)\n",
    "train_size = int(len(all_acts[0]) * 0.8)\n",
    "\n",
    "train_ids = torch.tensor(np.random.choice(len(all_acts[0]),train_size,replace=False))\n",
    "test_ids = torch.tensor(list(set(range(len(all_acts[0]))) - set(train_ids)))\n",
    "train_labels = torch.tensor([all_labels[i] for i in train_ids]).to(device)\n",
    "test_labels = torch.tensor([all_labels[i] for i in test_ids]).to(device)\n",
    "\n",
    "for l,act in all_acts.items():\n",
    "    last_token_act = torch.stack([x.mean(0) for x in act],dim = 0)\n",
    "    train_token_acts[l] = last_token_act[train_ids].to(device)\n",
    "    test_token_acts[l] = last_token_act[test_ids].to(device)\n",
    "    \n",
    "layer_probe = {}\n",
    "layer_best = []\n",
    "for l,train_acts in train_token_acts.items():\n",
    "    probe,test_acc = train_probe(train_acts,train_labels,test_token_acts[l],test_labels,train_acts.shape[-1],epochs = 20)\n",
    "    layer_best.append(np.max(test_acc))\n",
    "    layer_probe[l]=probe\n",
    "\n",
    "plot_line(layer_best,xlabel = 'Layer',ylabel = 'Test Acc',labels = np.arange(len(layer_best)))\n"
   ]
  },
  {
   "cell_type": "code",
   "execution_count": null,
   "id": "1060a697",
   "metadata": {},
   "outputs": [],
   "source": [
    "def add_steer(act,hook,vec):\n",
    "    norm_dir = F.normalize(vec,dim = -1)\n",
    "    proj = einsum(act, norm_dir.unsqueeze(-1), 'b c d, d s-> b c s')\n",
    "    ablated_act =  act - (proj * norm_dir)\n",
    "    return ablated_act\n",
    "\n"
   ]
  },
  {
   "cell_type": "code",
   "execution_count": null,
   "id": "b4fa1165",
   "metadata": {},
   "outputs": [],
   "source": []
  }
 ],
 "metadata": {
  "kernelspec": {
   "display_name": "Python 3 (ipykernel)",
   "language": "python",
   "name": "python3"
  }
 },
 "nbformat": 4,
 "nbformat_minor": 5
}
